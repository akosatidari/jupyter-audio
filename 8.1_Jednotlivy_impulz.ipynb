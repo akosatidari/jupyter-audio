{
 "cells": [
  {
   "cell_type": "code",
   "execution_count": 4,
   "id": "f29f3207",
   "metadata": {},
   "outputs": [],
   "source": [
    "import time\n",
    "import math\n",
    "import numpy as np\n",
    "import matplotlib.pyplot as plt\n",
    "import seaborn as sns\n",
    "import librosa\n",
    "from itertools import cycle\n",
    "sns.set_theme(style=\"white\", palette=None)\n",
    "color_pal = plt.rcParams[\"axes.prop_cycle\"].by_key()[\"color\"]\n",
    "color_cycle = cycle(plt.rcParams[\"axes.prop_cycle\"].by_key()[\"color\"])\n",
    "\n",
    "audio, Fs = librosa.load(\"../Mykola/bakalarka/sounds02/Kick.wav\") "
   ]
  },
  {
   "cell_type": "markdown",
   "id": "7ce014a2",
   "metadata": {},
   "source": [
    "V tejto časti importujeme potrebné knižnice, potom nastavíme tému a farebnú paletu pre grafické zobrazenia."
   ]
  },
  {
   "cell_type": "code",
   "execution_count": 5,
   "id": "1ca7787d",
   "metadata": {},
   "outputs": [],
   "source": [
    "def echoFF(x, Fs, dTime, b):\n",
    "    dSamples = math.ceil(dTime * Fs)  \n",
    "    Nx = len(x) - 1  \n",
    "    Ny = Nx + dSamples  \n",
    "    l = np.zeros((Ny, 1))  \n",
    "    y = l.flatten()  \n",
    "    for n in range(Ny):\n",
    "        if n < dSamples + 1:\n",
    "            y[n] = x[n]  \n",
    "        elif n > Nx:\n",
    "            y[n] = b * x[n - dSamples]  \n",
    "        else:\n",
    "            y[n] = x[n] + b * x[n - dSamples] \n",
    "            \n",
    "    return y"
   ]
  },
  {
   "cell_type": "markdown",
   "id": "c46f616c",
   "metadata": {},
   "source": [
    "Základnou myšlienkou je, že zvukový signál sa skopíruje a pridá sa k nemu oneskorenie, aby sa vytvoril efekt echo.\n",
    "Funkcia vráti výstupný signál s efektom echo"
   ]
  },
  {
   "cell_type": "code",
   "execution_count": 6,
   "id": "ba7543f5",
   "metadata": {},
   "outputs": [],
   "source": [
    "delaySec = 0.25\n",
    "tMax = 1.1*delaySec\n",
    "Nx = np.fix(tMax * Fs)\n",
    "nx = int(Nx)\n",
    "l = np.zeros((nx,1))\n",
    "x = l.flatten()\n",
    "x[1] = 1"
   ]
  },
  {
   "cell_type": "markdown",
   "id": "cc9d7e71",
   "metadata": {},
   "source": [
    "Jednotlivý impulz sa generuje pomocou funkcie np.zero. Tento impulz sa použije na vytvorenie oneskorenia ozveny."
   ]
  },
  {
   "cell_type": "code",
   "execution_count": 7,
   "id": "32ad2571",
   "metadata": {},
   "outputs": [],
   "source": [
    "b = 0.75\n",
    "h = echoFF(x,Fs,delaySec,b);"
   ]
  },
  {
   "cell_type": "markdown",
   "id": "a75581ae",
   "metadata": {},
   "source": [
    "Určí sa koeficient zosilnenia echa b a vyvolá sa funkcia echoFF s argumentmi x, Fs, delaySec a b. V rámci funkcie echoFF sa vypočíta oneskorený signál pomocou impulzu ako vzorky."
   ]
  },
  {
   "cell_type": "code",
   "execution_count": 11,
   "id": "d66f0a68",
   "metadata": {},
   "outputs": [
    {
     "data": {
      "image/png": "[encoded data removed]",
      "text/plain": [
       "<Figure size 720x288 with 2 Axes>"
      ]
     },
     "metadata": {},
     "output_type": "display_data"
    }
   ],
   "source": [
    "import matplotlib.pyplot as plt\n",
    "\n",
    "# Создание фигуры и осей для графиков\n",
    "fig, axes = plt.subplots(1, 2, figsize=(10, 4))\n",
    "\n",
    "# График 1\n",
    "axes[0].plot(time1, x)\n",
    "axes[0].set_title(\"Impulz\")\n",
    "axes[0].set_xlabel(\"Sekundy\")\n",
    "\n",
    "# График 2\n",
    "axes[1].plot(time2, h)\n",
    "axes[1].set_title(\"Odpoveď\")\n",
    "axes[1].set_xlabel(\"Sekundy\")\n",
    "\n",
    "# Удаление промежутков между графиками\n",
    "plt.subplots_adjust(wspace=0.5)\n",
    "\n",
    "# Отображение графиков\n",
    "plt.show()\n"
   ]
  },
  {
   "cell_type": "markdown",
   "id": "992e49a2",
   "metadata": {},
   "source": [
    "Prvý graf zobrazuje pôvodný zvukový signál a druhý graf zobrazuje ten istý signál s pridaným efektom echo."
   ]
  }
 ],
 "metadata": {
  "kernelspec": {
   "display_name": "Python 3 (ipykernel)",
   "language": "python",
   "name": "python3"
  },
  "language_info": {
   "codemirror_mode": {
    "name": "ipython",
    "version": 3
   },
   "file_extension": ".py",
   "mimetype": "text/x-python",
   "name": "python",
   "nbconvert_exporter": "python",
   "pygments_lexer": "ipython3",
   "version": "3.9.12"
  }
 },
 "nbformat": 4,
 "nbformat_minor": 5
}
